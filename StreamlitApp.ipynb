{
 "cells": [
  {
   "cell_type": "markdown",
   "id": "ccb921fb-7e62-450d-b2f7-5b406bb9e527",
   "metadata": {},
   "source": [
    "## Imports"
   ]
  },
  {
   "cell_type": "code",
   "execution_count": 1,
   "id": "9887fe4b-db6b-48d4-84c7-b37d9c870023",
   "metadata": {},
   "outputs": [],
   "source": [
    "import streamlit as st\n",
    "import json\n",
    "import openai\n",
    "import os"
   ]
  },
  {
   "cell_type": "code",
   "execution_count": null,
   "id": "21be34ba-3ea6-42ad-ab7c-92158073d612",
   "metadata": {},
   "outputs": [],
   "source": [
    "#setup openai api key\n",
    "openai_api_key = os.environ['OPENAI_API_KEY']"
   ]
  },
  {
   "cell_type": "code",
   "execution_count": 4,
   "id": "7d5b6593-2abc-43d3-9ed7-538356ce4e8f",
   "metadata": {},
   "outputs": [],
   "source": [
    "# Load past grocery lists\n",
    "def load_grocery_lists(filepath=\"grocery_lists.json\"):\n",
    "    with open(filepath, 'r') as f:\n",
    "        return json.load(f)\n",
    "\n",
    "# GPT function\n",
    "def generate_smart_grocery_list_and_recipes(past_grocery_lists):\n",
    "    all_items = [item for week in past_grocery_lists for item in week]\n",
    "    input_str = \", \".join(sorted(set(all_items)))\n",
    "\n",
    "    prompt = f\"\"\"\n",
    "You are an AI nutritionist and meal planner. Based on this user's previous 30 grocery lists:\n",
    "\n",
    "{input_str}\n",
    "\n",
    "1. Suggest 3-5 meal recipes they might be making regularly.\n",
    "2. Create a smart grocery list for the upcoming week that includes all the ingredients needed for those recipes, avoids duplicates from long-lasting pantry items (like oats, peanut butter), and includes reasonable variety.\n",
    "3. Make sure the grocery list order makes sense so group things like veggies, fruits or breads like they would be in a grocery store next to each other.\n",
    "4. Keep the grocery list between 20 and 30 items.\n",
    "5. Output the results in this format:\n",
    "\n",
    "Recipes:\n",
    "- Recipe 1: [short description]\n",
    "- Recipe 2: ...\n",
    "\n",
    "Grocery List:\n",
    "- item 1\n",
    "- item 2\n",
    "...\n",
    "    \"\"\"\n",
    "\n",
    "    response = openai.ChatCompletion.create(\n",
    "        model=\"gpt-4\",\n",
    "        messages=[\n",
    "            {\"role\": \"system\", \"content\": \"You are a helpful AI nutritionist.\"},\n",
    "            {\"role\": \"user\", \"content\": prompt}\n",
    "        ]\n",
    "    )\n",
    "\n",
    "    return response.choices[0].message.content"
   ]
  },
  {
   "cell_type": "code",
   "execution_count": 5,
   "id": "80252ac9-db2f-4f17-9fb9-d4ef9ea2eb28",
   "metadata": {},
   "outputs": [
    {
     "name": "stderr",
     "output_type": "stream",
     "text": [
      "2025-04-15 11:39:50.057 \n",
      "  \u001b[33m\u001b[1mWarning:\u001b[0m to view this Streamlit app on a browser, run it with the following\n",
      "  command:\n",
      "\n",
      "    streamlit run C:\\Users\\MehakGanju\\AppData\\Roaming\\Python\\Python311\\site-packages\\ipykernel_launcher.py [ARGUMENTS]\n"
     ]
    }
   ],
   "source": [
    "# ---- STREAMLIT UI ----\n",
    "st.set_page_config(page_title=\"AI Nutritionist\", layout=\"centered\")\n",
    "\n",
    "st.title(\"🥗 Smart Grocery & Recipe Planner\")\n",
    "\n",
    "# Diet goal selection\n",
    "goal = st.selectbox(\n",
    "    \"Choose a nutrition goal (optional):\",\n",
    "    [\"None\", \"High protein\", \"Vegetarian\", \"Low carb\", \"Budget-friendly\"]\n",
    ")\n",
    "\n",
    "if st.button(\"Generate Grocery List and Recipes\"):\n",
    "    with st.spinner(\"Thinking like a nutritionist...\"):\n",
    "        grocery_lists = load_grocery_lists()\n",
    "        user_goal = None if goal == \"None\" else goal\n",
    "        output = generate_smart_grocery_list_and_recipes(grocery_lists, user_goal)\n",
    "        st.text_area(\"📋 Result\", value=output, height=500)"
   ]
  },
  {
   "cell_type": "code",
   "execution_count": 6,
   "id": "72cdd787-de7c-493f-a1ff-e5bfada3957b",
   "metadata": {},
   "outputs": [
    {
     "ename": "SyntaxError",
     "evalue": "invalid syntax (3737097518.py, line 1)",
     "output_type": "error",
     "traceback": [
      "\u001b[1;36m  Cell \u001b[1;32mIn[6], line 1\u001b[1;36m\u001b[0m\n\u001b[1;33m    streamlit run app.py\u001b[0m\n\u001b[1;37m              ^\u001b[0m\n\u001b[1;31mSyntaxError\u001b[0m\u001b[1;31m:\u001b[0m invalid syntax\n"
     ]
    }
   ],
   "source": [
    "streamlit run app.py"
   ]
  },
  {
   "cell_type": "code",
   "execution_count": null,
   "id": "3fc427b9-f277-45e8-a68c-173214754a03",
   "metadata": {},
   "outputs": [],
   "source": []
  }
 ],
 "metadata": {
  "kernelspec": {
   "display_name": "Python 3 (ipykernel)",
   "language": "python",
   "name": "python3"
  },
  "language_info": {
   "codemirror_mode": {
    "name": "ipython",
    "version": 3
   },
   "file_extension": ".py",
   "mimetype": "text/x-python",
   "name": "python",
   "nbconvert_exporter": "python",
   "pygments_lexer": "ipython3",
   "version": "3.11.7"
  }
 },
 "nbformat": 4,
 "nbformat_minor": 5
}
