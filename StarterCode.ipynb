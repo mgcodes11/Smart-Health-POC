{
 "cells": [
  {
   "cell_type": "markdown",
   "id": "0864b965-9e00-419e-b0c7-aa7a3a1d9db0",
   "metadata": {},
   "source": [
    "## Imports"
   ]
  },
  {
   "cell_type": "code",
   "execution_count": 10,
   "id": "ca972f87-d487-4716-baa3-f1f68b33eacf",
   "metadata": {},
   "outputs": [],
   "source": [
    "import json\n",
    "from collections import Counter\n",
    "import random\n",
    "import openai  # Only if you're doing recipe suggestions\n",
    "import os"
   ]
  },
  {
   "cell_type": "markdown",
   "id": "09e5f6ec-ccf3-4277-87ed-1b952631a1e0",
   "metadata": {},
   "source": [
    "## Universal Variables"
   ]
  },
  {
   "cell_type": "code",
   "execution_count": null,
   "id": "6043c751-862f-4bbb-9975-ded6baf1e790",
   "metadata": {},
   "outputs": [],
   "source": [
    "#setup openai key\n",
    "openai_api_key = os.environ['OPENAI_API_KEY']"
   ]
  },
  {
   "cell_type": "markdown",
   "id": "c1040b38-5456-4e7d-92e1-7eb802dbbe51",
   "metadata": {},
   "source": [
    "## Define Functions"
   ]
  },
  {
   "cell_type": "code",
   "execution_count": 6,
   "id": "c6a4af33-b7b0-4085-a516-27784c504087",
   "metadata": {},
   "outputs": [],
   "source": [
    "# Load past grocery lists\n",
    "def load_grocery_lists(filepath):\n",
    "    with open(filepath, 'r') as f:\n",
    "        grocery_lists = json.load(f)\n",
    "    return grocery_lists\n",
    "\n",
    "# Normalize & Flatten Lists\n",
    "def normalize_items(grocery_lists):\n",
    "    flat_list = []\n",
    "    for sublist in grocery_lists:\n",
    "        for item in sublist:\n",
    "            clean_item = item.lower().strip()\n",
    "            flat_list.append(clean_item)\n",
    "    return flat_list\n",
    "\n",
    "# Generate Next Week's Grocery List\n",
    "def generate_next_week_list(flat_list, top_n=20):\n",
    "    freq = Counter(flat_list)\n",
    "    most_common = freq.most_common(top_n)\n",
    "    return [item for item, count in most_common]\n",
    "\n",
    "# Generate Recipe Ideas\n",
    "def suggest_recipe(ingredients, openai_api_key=None):\n",
    "    if not openai_api_key:\n",
    "        return \"No API key provided, skipping recipe generation.\"\n",
    "\n",
    "    openai.api_key = openai_api_key\n",
    "    prompt = f\"Give me a healthy recipe using these ingredients: {', '.join(ingredients)}\"\n",
    "\n",
    "    try:\n",
    "        response = openai.ChatCompletion.create(\n",
    "            model=\"gpt-4\",\n",
    "            messages=[{\"role\": \"user\", \"content\": prompt}]\n",
    "        )\n",
    "        return response['choices'][0]['message']['content']\n",
    "    except Exception as e:\n",
    "        return f\"Error generating recipe: {e}\"\n"
   ]
  },
  {
   "cell_type": "markdown",
   "id": "50b163be-9471-40ca-b46c-947acfc69ef7",
   "metadata": {},
   "source": [
    "## Define Main Function"
   ]
  },
  {
   "cell_type": "code",
   "execution_count": 12,
   "id": "16170dda-1b6c-41de-ae8f-5249b329e859",
   "metadata": {},
   "outputs": [
    {
     "name": "stdout",
     "output_type": "stream",
     "text": [
      "✅ Suggested Grocery List for Next Week:\n",
      "- rice\n",
      "- chia seeds\n",
      "- spinach\n",
      "- cream cheese\n",
      "- bagels\n",
      "- ground turkey\n",
      "- banana peppers\n",
      "- carrots\n",
      "- zuchini\n",
      "- milk\n",
      "- bananas\n",
      "- bell peppers\n",
      "- pepper jack cheese\n",
      "- greek yogurt\n",
      "- grapes\n",
      "- ranch\n",
      "- chicken nuggets\n",
      "- turkey burgers\n",
      "- oats\n",
      "- blackberries\n",
      "\n",
      "🍳 Recipe Suggestion Based on Ingredients:\n",
      "Recipe: Spicy Carrot and Oats Rice\n",
      "\n",
      "Ingredients:\n",
      "- 1 cup of oats\n",
      "- 2 medium-sized carrots, peeled and diced\n",
      "- 1 cup of rice\n",
      "- 4 banana peppers, sliced\n",
      "- Salt to taste\n",
      "- 2 tablespoons of olive oil\n",
      "- 1 tablespoon of minced garlic\n",
      "- 1 medium-sized onion, finely chopped\n",
      "- 1 tablespoon of cumin seeds\n",
      "\n",
      "Directions:\n",
      "1. Rinse the rice under cold water until the water runs clear. This helps to remove the excess starch.\n",
      "2. In a saucepan, add 2 cups of water and bring to a boil. Add the rice and a pinch of salt, and cook over medium heat for about 15-20 minutes, until the rice is cooked. Set aside.\n",
      "3. In another saucepan, bring 2 cups of water to a boil. Add the oats and cook for about 8-10 minutes until they are soft. Drain the water and set aside.\n",
      "4. Heat the olive oil in a large pan over medium heat. Once the oil is hot, add the cumin seeds and let them sizzle for a few seconds.\n",
      "5. Add the finely chopped onions to the pan and sauté until they become translucent.\n",
      "6. Add the minced garlic and sliced banana peppers, and cook for 5 minutes.\n",
      "7. Add the diced carrots to the pan and cook for about 10 minutes until they are soft.\n",
      "8. Now, add the cooked oats and rice to the pan and mix well. Cook for another 5 minutes so that everything is well combined.\n",
      "9. Correct the seasoning by adding salt, if needed.\n",
      "10. Once done, turn off the heat and let the Spicy Carrot and Oats Rice sit for a few minutes before serving.\n",
      "\n",
      "Enjoy this healthy, spicy, and flavorful dish. Remember, you can always adjust the amount of banana peppers based on your preference for spiciness. Also, adding a bit of lime juice can enhance the overall flavor of this dish.\n"
     ]
    }
   ],
   "source": [
    "# Main Runner\n",
    "if __name__ == \"__main__\":\n",
    "    # Replace with your own file path\n",
    "    filepath = \"grocery_lists.json\"\n",
    "    grocery_lists = load_grocery_lists('C:/Users/MehakGanju/Documents/Python Scripts/SmartHeath POC/grocery_lists.json')\n",
    "\n",
    "    flat_items = normalize_items(grocery_lists)\n",
    "    next_week_list = generate_next_week_list(flat_items, top_n=20)\n",
    "\n",
    "    print(\"✅ Suggested Grocery List for Next Week:\")\n",
    "    for item in next_week_list:\n",
    "        print(\"-\", item)\n",
    "\n",
    "    # Optional: Get a random group of 4 items to suggest a recipe\n",
    "    recipe_ingredients = random.sample(next_week_list, 4)\n",
    "    recipe = suggest_recipe(recipe_ingredients, openai_api_key)\n",
    "    print(\"\\n🍳 Recipe Suggestion Based on Ingredients:\")\n",
    "    print(recipe)"
   ]
  },
  {
   "cell_type": "markdown",
   "id": "525b1163-93ab-40b5-a3f1-d11be222e573",
   "metadata": {},
   "source": [
    "## Chat-GPT Implementation"
   ]
  },
  {
   "cell_type": "code",
   "execution_count": 23,
   "id": "d957dab7-a1dd-4666-a330-11d928b6f8c0",
   "metadata": {},
   "outputs": [],
   "source": [
    "def load_grocery_lists(filepath=\"grocery_lists.json\"):\n",
    "    with open(filepath, 'r') as f:\n",
    "        return json.load(f)\n",
    "\n",
    "\n",
    "def generate_smart_grocery_list_and_recipes(past_grocery_lists):\n",
    "    all_items = [item for week in past_grocery_lists for item in week]\n",
    "    input_str = \", \".join(sorted(set(all_items)))\n",
    "\n",
    "    goal_instruction = f\"Please tailor everything to a '{user_goal}' diet.\" if user_goal else \"\"\n",
    "\n",
    "    prompt = f\"\"\"\n",
    "You are an AI nutritionist and meal planner. Based on this user's previous 30 grocery lists:\n",
    "\n",
    "{input_str}\n",
    "\n",
    "1. Suggest 3-5 meal recipes they might be making regularly.\n",
    "2. Create a smart grocery list for the upcoming week that includes all the ingredients needed for those recipes, avoids duplicates from long-lasting pantry items (like oats, peanut butter), and includes reasonable variety.\n",
    "3. Make sure the grocery list order makes sense so group things like veggies, fruits or breads like they would be in a grocery store next to each other.\n",
    "4. Keep the grocery list between 20 and 30 items.\n",
    "5. Output the results in this format:\n",
    "\n",
    "Recipes:\n",
    "- Recipe 1: [short description]\n",
    "- Recipe 2: ...\n",
    "\n",
    "Grocery List:\n",
    "- item 1\n",
    "- item 2\n",
    "...\n",
    "    \"\"\"\n",
    "\n",
    "    response = openai.ChatCompletion.create(\n",
    "        model=\"gpt-4\",\n",
    "        messages=[\n",
    "            {\"role\": \"system\", \"content\": \"You are a helpful AI nutritionist.\"},\n",
    "            {\"role\": \"user\", \"content\": prompt}\n",
    "        ]\n",
    "    )\n",
    "\n",
    "    return response.choices[0].message.content\n"
   ]
  },
  {
   "cell_type": "code",
   "execution_count": 24,
   "id": "0d2abfb5-f068-40e3-8952-71a874aff969",
   "metadata": {},
   "outputs": [
    {
     "name": "stdout",
     "output_type": "stream",
     "text": [
      "Recipes:\n",
      "- Recipe 1: Chicken Fajitas - A delicious and healthy Mexican dish using chicken breast, bell peppers, onions and tortillas.\n",
      "- Recipe 2: Protein Oatmeal Bowl - A protein-rich breakfast that incorporates oats, Greek yogurt, chia seeds and fresh fruits like apple and banana.\n",
      "- Recipe 3: Salmon Salad - A nutritious salad mix with salmon, avocado, bell peppers and your choice of dressing.\n",
      "- Recipe 4: Turkey Burger - A healthier option compared to regular burgers, the turkey burger can be enjoyed with a serving of veggies.\n",
      "- Recipe 5: Peanut Butter and Cream Cheese Bagel - A quick and easy breakfast or snack that combines the creaminess of cream cheese with the rich taste of peanut butter.\n",
      "\n",
      "Grocery List:\n",
      "1. Chicken Breast\n",
      "2. Red and Green Bell Peppers\n",
      "3. White Onion\n",
      "4. Small Tortillas\n",
      "5. Greek Yogurt\n",
      "6. Oats\n",
      "7. Chia Seeds\n",
      "8. Apples\n",
      "9. Bananas\n",
      "10. Salmon Fillet\n",
      "11. Avocado\n",
      "12. Salad Mix\n",
      "13. Ground Turkey\n",
      "14. Whole Wheat Buns\n",
      "15. Bagels\n",
      "16. Cream Cheese\n",
      "17. Peanut Butter\n",
      "18. Lettuce\n",
      "19. Tomatoes\n",
      "20. Ground Black pepper\n",
      "21. Olive Oil\n",
      "22. Balsamic Vinegar\n",
      "23. Whole grain mustard\n",
      "24. Honey\n",
      "25. Soy Sauce\n",
      "26. Minced Garlic\n",
      "27. Zucchini\n",
      "28. Mozzarella Cheese\n",
      "29. Almond Milk\n",
      "30. Fresh Berries (Strawberries, Blackberries, Raspberries)\n",
      "\n",
      "The grocery list starts with meats and seafood, then dairy items, followed by fruits and vegetables, and lastly condiments and miscellaneous. Beside maintaining a balanced and nutritious diet, it also saves your time in the groceries by grouping items according to the store sections. This way, you can pick up everything from one section before moving to the next one.\n"
     ]
    }
   ],
   "source": [
    "if __name__ == \"__main__\":\n",
    "    past_lists = load_grocery_lists()\n",
    "    result = generate_smart_grocery_list_and_recipes(past_lists)\n",
    "    print(result)"
   ]
  }
 ],
 "metadata": {
  "kernelspec": {
   "display_name": "Python 3 (ipykernel)",
   "language": "python",
   "name": "python3"
  },
  "language_info": {
   "codemirror_mode": {
    "name": "ipython",
    "version": 3
   },
   "file_extension": ".py",
   "mimetype": "text/x-python",
   "name": "python",
   "nbconvert_exporter": "python",
   "pygments_lexer": "ipython3",
   "version": "3.11.7"
  }
 },
 "nbformat": 4,
 "nbformat_minor": 5
}
